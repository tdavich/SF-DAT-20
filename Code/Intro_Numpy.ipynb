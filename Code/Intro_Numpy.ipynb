{
 "cells": [
  {
   "cell_type": "markdown",
   "metadata": {},
   "source": []
  },
  {
   "cell_type": "markdown",
   "metadata": {},
   "source": [
    "# Numpy Reference Guide \n",
    "\n",
    "Sources: \n",
    "\n",
    "http://www.engr.ucsb.edu/~shell/che210d/numpy.pdf\n",
    "\n",
    "https://github.com/hallr/DAT_SF_19/blob/master/code/04_numpy.py"
   ]
  },
  {
   "cell_type": "code",
   "execution_count": 1,
   "metadata": {
    "collapsed": true
   },
   "outputs": [],
   "source": [
    "import numpy as np\n",
    "import matplotlib.pyplot as plt"
   ]
  },
  {
   "cell_type": "markdown",
   "metadata": {},
   "source": [
    "From here on, np can be used for numpy and plt for matplotlib.pyplot"
   ]
  },
  {
   "cell_type": "markdown",
   "metadata": {},
   "source": [
    "# Lists, Arrays, List of Lists"
   ]
  },
  {
   "cell_type": "code",
   "execution_count": null,
   "metadata": {
    "collapsed": false
   },
   "outputs": [],
   "source": [
    "data1 = [1,2,2.5,4]    #This is a simple list\n",
    "print(data1)"
   ]
  },
  {
   "cell_type": "code",
   "execution_count": null,
   "metadata": {
    "collapsed": false
   },
   "outputs": [],
   "source": [
    "data1[2]  #refers to the 3rd element of data1"
   ]
  },
  {
   "cell_type": "code",
   "execution_count": null,
   "metadata": {
    "collapsed": false
   },
   "outputs": [],
   "source": [
    "array1 = np.array(data1)      #we just created a 1d list\n",
    "print(array1)"
   ]
  },
  {
   "cell_type": "code",
   "execution_count": null,
   "metadata": {
    "collapsed": false
   },
   "outputs": [],
   "source": [
    "array1[1]       #refers to the second element of array1"
   ]
  },
  {
   "cell_type": "code",
   "execution_count": null,
   "metadata": {
    "collapsed": false
   },
   "outputs": [],
   "source": [
    "data2 = 2*data1     \n",
    "print(data2)  # pay attention to output"
   ]
  },
  {
   "cell_type": "code",
   "execution_count": null,
   "metadata": {
    "collapsed": false
   },
   "outputs": [],
   "source": [
    "array2 = 2*array1\n",
    "print(array2)   # pay attention to output"
   ]
  },
  {
   "cell_type": "code",
   "execution_count": null,
   "metadata": {
    "collapsed": false
   },
   "outputs": [],
   "source": [
    "ArrayToList = array2.tolist()  #that is how you convert arrays to list\n",
    "print(ArrayToList) # pay attention to commas"
   ]
  },
  {
   "cell_type": "code",
   "execution_count": null,
   "metadata": {
    "collapsed": false
   },
   "outputs": [],
   "source": [
    "data3 = [[1,4,7],range(1,4)]  #list of lists - look at the output of range()\n",
    "print(data3)"
   ]
  },
  {
   "cell_type": "code",
   "execution_count": null,
   "metadata": {
    "collapsed": false
   },
   "outputs": [],
   "source": [
    "data3[1][2]"
   ]
  },
  {
   "cell_type": "code",
   "execution_count": null,
   "metadata": {
    "collapsed": false
   },
   "outputs": [],
   "source": [
    "data3[0]"
   ]
  },
  {
   "cell_type": "code",
   "execution_count": null,
   "metadata": {
    "collapsed": false
   },
   "outputs": [],
   "source": [
    "data3[1:]"
   ]
  },
  {
   "cell_type": "code",
   "execution_count": null,
   "metadata": {
    "collapsed": false
   },
   "outputs": [],
   "source": [
    "y = data3[1:]\n",
    "print(y[0][1])"
   ]
  },
  {
   "cell_type": "code",
   "execution_count": null,
   "metadata": {
    "collapsed": false
   },
   "outputs": [],
   "source": [
    "array2 = np.array(data3)\n",
    "print(array2)"
   ]
  },
  {
   "cell_type": "code",
   "execution_count": null,
   "metadata": {
    "collapsed": false
   },
   "outputs": [],
   "source": [
    "array2[1][2]   #alternative command is array2[1,2]"
   ]
  },
  {
   "cell_type": "code",
   "execution_count": null,
   "metadata": {
    "collapsed": false
   },
   "outputs": [],
   "source": [
    "print(2*data3)  #pay attention to output"
   ]
  },
  {
   "cell_type": "code",
   "execution_count": null,
   "metadata": {
    "collapsed": false
   },
   "outputs": [],
   "source": [
    "print(2*array2) #look out the output of array"
   ]
  },
  {
   "cell_type": "code",
   "execution_count": null,
   "metadata": {
    "collapsed": false
   },
   "outputs": [],
   "source": [
    "print(array2[1,2])"
   ]
  },
  {
   "cell_type": "code",
   "execution_count": null,
   "metadata": {
    "collapsed": false
   },
   "outputs": [],
   "source": [
    "array3 = array2[:,0]   #First Column is returned\n",
    "print(array3)"
   ]
  },
  {
   "cell_type": "code",
   "execution_count": null,
   "metadata": {
    "collapsed": false
   },
   "outputs": [],
   "source": [
    "array4 = array2[0,:]   #First Row is returned\n",
    "print(array4)"
   ]
  },
  {
   "cell_type": "code",
   "execution_count": null,
   "metadata": {
    "collapsed": false
   },
   "outputs": [],
   "source": [
    "array5 = array2[0, 0:2] #the first two elements of the first row is returned\n",
    "print(array5)"
   ]
  },
  {
   "cell_type": "markdown",
   "metadata": {},
   "source": [
    "# Examining Arrays"
   ]
  },
  {
   "cell_type": "code",
   "execution_count": null,
   "metadata": {
    "collapsed": false
   },
   "outputs": [],
   "source": [
    "print(array2.dtype)   #Returns int64 since all elements of array are integer numbers\n",
    "print(array2.ndim)    #it is a 2-dimentional array - Rows and Columns\n",
    "array1d = np.array([1,2,3])\n",
    "print(array1d.ndim)   #this was a 1-dementional array thus the output is 1\n",
    "print(array2.shape)   #returns (2,3) - there are 2 rows and 3 columns array2.shape[0] is number of rows\n",
    "print(array2.size)    #returns 6 (total number of elements in this array 2*3 = 6)\n",
    "print(len(array2))    #returns number of rows i.e. 2 - this is usually number of observations"
   ]
  },
  {
   "cell_type": "markdown",
   "metadata": {},
   "source": [
    "# Some handy short-cuts to create special arrays"
   ]
  },
  {
   "cell_type": "code",
   "execution_count": null,
   "metadata": {
    "collapsed": false
   },
   "outputs": [],
   "source": [
    "x1 = np.zeros(5) #it creates a one-dimentional array with 5 elements all equal to zero\n",
    "print(\"x1 = \")\n",
    "print(x1)\n",
    "x2 = np.zeros((2, 4)) #it creates a two-dimentional array with 2 rows and 4 columns. All elements are set to zero\n",
    "print(\"x2 = \")\n",
    "print(x2)\n",
    "x3 = np.ones(6)\n",
    "print(\"x3 = \") #it creates a one-dimentional array with 5 elements all equal to one\n",
    "print(x3)\n",
    "x4 = np.linspace(0,6,4) #it generates 4 equally distanced points from 0 to 6 (inclusive) - i.e. 0,2,4,6\n",
    "print(\"x4 = \")\n",
    "print(x4)\n",
    "x5 = np.logspace(1,3,4) #on logarithmic scale, it generates 4 equally distanced points from 10^1 to 10^3 (inclusive)\n",
    "print(\"x5 = \")\n",
    "print(x5)\n",
    "x6 =np.arange(5) #it generates a one dimentional array with 5 elements starting from 0 \n",
    "print(\"x6 = \")\n",
    "print(x6)\n",
    "x7 = x6.astype(float)  #we just change array type from Integer to Float\n",
    "print(\"x7 = \")\n",
    "print(x7)"
   ]
  },
  {
   "cell_type": "markdown",
   "metadata": {},
   "source": [
    "# Logical expressions and Boolean Arrays"
   ]
  },
  {
   "cell_type": "code",
   "execution_count": null,
   "metadata": {
    "collapsed": false
   },
   "outputs": [],
   "source": [
    "cities = np.array(['SF', 'Seattle', 'SF', 'NY'])\n",
    "Boolean1 = cities == 'SF'   # Pay attention to the difference between = and ==\n",
    "print(\"Boolean1 = \")\n",
    "print(Boolean1) #returns True and False\n",
    "print(cities[~Boolean1]) #returns all cities that are not SF - i.e. 'Seattle' and 'NY'\n",
    "Boolean2 = (cities == 'SF') | (cities == 'NY')\n",
    "print(\"Boolean2 = \")\n",
    "print(Boolean2) #returns true for elements that are either equal to 'SF' or 'NY'\n",
    "print(cities[~Boolean2])  #returns 'Seattle'\n",
    "print(np.unique(cities)) #returns unique values in this array - i.e. 'NY' 'SF' and 'Seattle'"
   ]
  },
  {
   "cell_type": "markdown",
   "metadata": {},
   "source": [
    "# Mathematical and Statistical Operations "
   ]
  },
  {
   "cell_type": "code",
   "execution_count": null,
   "metadata": {
    "collapsed": false
   },
   "outputs": [],
   "source": [
    "ArrayTest = np.arange(10)\n",
    "print(ArrayTest*10)  # multiplies each element by 10\n",
    "ArrayTest = ArrayTest ** 2.5 # Array Test to the power of 2.5\n",
    "print(ArrayTest)"
   ]
  },
  {
   "cell_type": "code",
   "execution_count": null,
   "metadata": {
    "collapsed": false
   },
   "outputs": [],
   "source": [
    "np.rint(ArrayTest)     #round into the nearest integer "
   ]
  },
  {
   "cell_type": "code",
   "execution_count": null,
   "metadata": {
    "collapsed": false
   },
   "outputs": [],
   "source": [
    "np.ceil(ArrayTest)   #round up"
   ]
  },
  {
   "cell_type": "code",
   "execution_count": null,
   "metadata": {
    "collapsed": false
   },
   "outputs": [],
   "source": [
    "np.floor(ArrayTest)  #Round down"
   ]
  },
  {
   "cell_type": "code",
   "execution_count": null,
   "metadata": {
    "collapsed": false
   },
   "outputs": [],
   "source": [
    "Boolean3 = np.isnan(ArrayTest) #Returns true when an element has value NaN - very handy in cleaning data\n",
    "print(Boolean3)  #it returns all False since all elements had values"
   ]
  },
  {
   "cell_type": "code",
   "execution_count": null,
   "metadata": {
    "collapsed": false
   },
   "outputs": [],
   "source": [
    "np.argmax(ArrayTest) #returns the index of the maximum element in the array. Also try argmin"
   ]
  },
  {
   "cell_type": "code",
   "execution_count": null,
   "metadata": {
    "collapsed": false
   },
   "outputs": [],
   "source": [
    "np.max(ArrayTest)  #return maximum value of the array. Also try min"
   ]
  },
  {
   "cell_type": "code",
   "execution_count": null,
   "metadata": {
    "collapsed": false
   },
   "outputs": [],
   "source": [
    "rnd = np.random.randn(4,2) \n",
    "\"\"\"returns a 2d array with 4 rows and 2 columns. Each element is a sample from a standard normal distribution. \n",
    "Standard Normal distribution has mean zero and sd 1. \"\"\"\n",
    "print(rnd)  "
   ]
  },
  {
   "cell_type": "code",
   "execution_count": null,
   "metadata": {
    "collapsed": false
   },
   "outputs": [],
   "source": [
    "rnd.mean() #returns mean of all elements"
   ]
  },
  {
   "cell_type": "code",
   "execution_count": null,
   "metadata": {
    "collapsed": false
   },
   "outputs": [],
   "source": [
    "rnd.std() #returns standard deviation of all elements"
   ]
  },
  {
   "cell_type": "code",
   "execution_count": null,
   "metadata": {
    "collapsed": false
   },
   "outputs": [],
   "source": [
    "rnd.var() #returns variance of all elements"
   ]
  },
  {
   "cell_type": "code",
   "execution_count": null,
   "metadata": {
    "collapsed": false
   },
   "outputs": [],
   "source": [
    "rnd.sum() #returns sum of all elements"
   ]
  },
  {
   "cell_type": "code",
   "execution_count": null,
   "metadata": {
    "collapsed": false
   },
   "outputs": [],
   "source": [
    "rnd.sum(axis=0) #returns sum of columns"
   ]
  },
  {
   "cell_type": "code",
   "execution_count": null,
   "metadata": {
    "collapsed": false
   },
   "outputs": [],
   "source": [
    "rnd.sum(axis=1) #returns sum of rows"
   ]
  },
  {
   "cell_type": "markdown",
   "metadata": {},
   "source": [
    "# Scatter Plots"
   ]
  },
  {
   "cell_type": "code",
   "execution_count": null,
   "metadata": {
    "collapsed": false
   },
   "outputs": [],
   "source": [
    "SampleSize = 20\n",
    "x = np.arange(SampleSize)\n",
    "print(x)\n",
    "error = np.random.randn(1,SampleSize)\n",
    "y = -2 + 3*x + 10*error\n",
    "plt.scatter(x,y)\n",
    "plt.show()"
   ]
  },
  {
   "cell_type": "markdown",
   "metadata": {},
   "source": [
    "# Conditional Logic"
   ]
  },
  {
   "cell_type": "code",
   "execution_count": null,
   "metadata": {
    "collapsed": false
   },
   "outputs": [],
   "source": [
    "Logical = np.where(rnd > 0, 2, -2)   #Checks condition, if true then returns 2, if false returns -2\n",
    "print(Logical)"
   ]
  },
  {
   "cell_type": "code",
   "execution_count": null,
   "metadata": {
    "collapsed": false
   },
   "outputs": [],
   "source": [
    "Logical = np.where(rnd > 0, rnd, -2) #Checks condition, if true then returns the rnd number, if false returns -2\n",
    "print(Logical)"
   ]
  },
  {
   "cell_type": "code",
   "execution_count": null,
   "metadata": {
    "collapsed": false
   },
   "outputs": [],
   "source": [
    "(rnd > 1).sum()  #counts numer of elements that are more than 1\n",
    "(rnd > 1).any()  #Checks if any value is more than 1, if it is, then returns True, if all values are <=1 returns False\n",
    "(rnd > 1).all()  #Checks if all values are more than 1, if it is, then returns True, otherwise False"
   ]
  },
  {
   "cell_type": "markdown",
   "metadata": {},
   "source": [
    "# Random Numbers"
   ]
  },
  {
   "cell_type": "code",
   "execution_count": null,
   "metadata": {
    "collapsed": false
   },
   "outputs": [],
   "source": [
    "np.random.seed(213)   #Seed number is set to 213 \n",
    "np.random.rand(2,4)   #Give you a 2 by 4 array of random numbers. Each element is between 0 and 1\n",
    "np.random.randn(5)   # returns 5 random numbers based on standard normal distribution\n",
    "np.random.seed()      #if you do not specify seed - then the current system time is used\n",
    "np.random.rand(2,4)   "
   ]
  },
  {
   "cell_type": "markdown",
   "metadata": {},
   "source": [
    "# Reshaping, Transposing, and Flattening arrays"
   ]
  },
  {
   "cell_type": "code",
   "execution_count": null,
   "metadata": {
    "collapsed": false
   },
   "outputs": [],
   "source": [
    "Initial_1D_Array = np.arange(20)\n",
    "print(\" Initial_1D_Array = \")\n",
    "print(Initial_1D_Array)\n",
    "ReShaped_2D = Initial_1D_Array.reshape(5,4) #Reshape our original array to a 5 by 4 two-Dimenational Array\n",
    "print(\"ReShaped_2D =\")\n",
    "print(ReShaped_2D)\n",
    "Flatten_Array = ReShaped_2D.flatten()   #our 2-D array is flatten now\n",
    "print(\"Flatten_Array = \")\n",
    "print(Flatten_Array)   \n",
    "Transposed_array = ReShaped_2D.T   #We just transposed our 5 by 4 array to a 4 by 5 array\n",
    "print(\"Transposed_array  = \")\n",
    "print(Transposed_array )"
   ]
  },
  {
   "cell_type": "markdown",
   "metadata": {},
   "source": [
    " Using IPython\n",
    "### Review Python Basics\n",
    "\n",
    "Test your skills by answering the following questions:"
   ]
  },
  {
   "cell_type": "code",
   "execution_count": 4,
   "metadata": {
    "collapsed": false
   },
   "outputs": [
    {
     "name": "stdout",
     "output_type": "stream",
     "text": [
      "0\n"
     ]
    }
   ],
   "source": [
    "### Insert your code here and then uncomment | print A | when you are ready to test it. \n",
    "A = 10/20\n",
    "print A\n",
    "#print A"
   ]
  },
  {
   "cell_type": "code",
   "execution_count": 5,
   "metadata": {
    "collapsed": false
   },
   "outputs": [
    {
     "name": "stdout",
     "output_type": "stream",
     "text": [
      "0.5\n"
     ]
    }
   ],
   "source": [
    "#### If you did not get a float (decimals), alter your equation to get the desired result (0.5) \n",
    "#### If you did not get a float (decimals) alter your equation to get the desired result (0.5) \n",
    "A = 10.0/20\n",
    "print A"
   ]
  },
  {
   "cell_type": "markdown",
   "metadata": {},
   "source": [
    "#### Question 2. Create a function called division that will divide any two numbers and prints the result (with decimals). \n",
    "Call your function. Confirm that the results are as expected."
   ]
  },
  {
   "cell_type": "code",
   "execution_count": 11,
   "metadata": {
    "collapsed": false
   },
   "outputs": [
    {
     "name": "stdout",
     "output_type": "stream",
     "text": [
      "0.5\n",
      "2.0\n"
     ]
    }
   ],
   "source": [
    "# Remember functions start with def\n",
    "def division(numerator, denominator):\n",
    "    result = float(numerator)/ denominator\n",
    "    return result\n",
    "print(division(1,2))\n",
    "print(division(20,10))"
   ]
  },
  {
   "cell_type": "markdown",
   "metadata": {},
   "source": [
    "#### Question 3. Using .split() split my string into separate words in a variable named words"
   ]
  },
  {
   "cell_type": "code",
   "execution_count": 13,
   "metadata": {
    "collapsed": false
   },
   "outputs": [
    {
     "name": "stdout",
     "output_type": "stream",
     "text": [
      "['the', 'cow', 'jumped', 'over', 'the', 'moon']\n"
     ]
    }
   ],
   "source": [
    "my_string = \"the cow jumped over the moon\"\n",
    "#put your code here it should return ['the', 'cow', 'jumped', 'over', 'the', 'moon']\n",
    "words = my_string.split()\n",
    "#returns ['the', 'cow', 'jumped', 'over', 'the', 'moon']\n",
    "print words\n",
    "\n",
    "#print words"
   ]
  },
  {
   "cell_type": "markdown",
   "metadata": {},
   "source": [
    "#### Question 4. How many words are in my_string?\n"
   ]
  },
  {
   "cell_type": "code",
   "execution_count": 14,
   "metadata": {
    "collapsed": false
   },
   "outputs": [
    {
     "name": "stdout",
     "output_type": "stream",
     "text": [
      "6\n"
     ]
    }
   ],
   "source": [
    "print len(words)\n",
    "#returns the number of words- 6\n"
   ]
  },
  {
   "cell_type": "markdown",
   "metadata": {},
   "source": [
    "#### Question 5. Use a list comprehension to find the length of each word\n",
    "\n",
    "result: [3, 3, 6, 4, 3, 4]"
   ]
  },
  {
   "cell_type": "code",
   "execution_count": 29,
   "metadata": {
    "collapsed": false
   },
   "outputs": [
    {
     "name": "stdout",
     "output_type": "stream",
     "text": [
      "3\n",
      "3\n",
      "6\n",
      "4\n",
      "3\n",
      "4\n",
      "[3, 3, 6, 4, 3, 4]\n"
     ]
    }
   ],
   "source": [
    "def word_length(word_list):\n",
    "    results = []\n",
    "    for word in word_list:\n",
    "        print len(word)\n",
    "        results.append(len(word))\n",
    "    return results\n",
    "word_length(words)\n",
    "\n",
    "\n",
    "# alternative way\n",
    "\n",
    "length_of_each_word = [len(word) for word in words]\n",
    "print length_of_each_word"
   ]
  },
  {
   "cell_type": "markdown",
   "metadata": {},
   "source": [
    "#### Question 6. Put the words back together in a variable called sentence using .join()\n",
    "result:\n",
    "the cow jumped over the moon"
   ]
  },
  {
   "cell_type": "code",
   "execution_count": 27,
   "metadata": {
    "collapsed": false
   },
   "outputs": [
    {
     "name": "stdout",
     "output_type": "stream",
     "text": [
      "the cow jumped over the moon\n"
     ]
    }
   ],
   "source": [
    "s = ' '\n",
    "sentence = s.join(words)\n",
    "print(sentence)"
   ]
  },
  {
   "cell_type": "markdown",
   "metadata": {},
   "source": [
    "#### Bonus: Add a \"||\" between each word\n",
    "result: \n",
    "the||cow||jumped||over||the||moon"
   ]
  },
  {
   "cell_type": "code",
   "execution_count": 28,
   "metadata": {
    "collapsed": false
   },
   "outputs": [
    {
     "name": "stdout",
     "output_type": "stream",
     "text": [
      "the||cow||jumped||over||the||moon\n"
     ]
    }
   ],
   "source": [
    "s2 = '||'\n",
    "sentence2 = s2.join(words)\n",
    "print(sentence2)"
   ]
  },
  {
   "cell_type": "code",
   "execution_count": null,
   "metadata": {
    "collapsed": true
   },
   "outputs": [],
   "source": []
  }
 ],
 "metadata": {
  "kernelspec": {
   "display_name": "Python 2",
   "language": "python",
   "name": "python2"
  },
  "language_info": {
   "codemirror_mode": {
    "name": "ipython",
    "version": 2
   },
   "file_extension": ".py",
   "mimetype": "text/x-python",
   "name": "python",
   "nbconvert_exporter": "python",
   "pygments_lexer": "ipython2",
   "version": "2.7.11"
  }
 },
 "nbformat": 4,
 "nbformat_minor": 0
}
